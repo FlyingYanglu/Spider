{
 "cells": [
  {
   "cell_type": "code",
   "execution_count": 1,
   "metadata": {},
   "outputs": [],
   "source": [
    "import requests\n",
    "from bs4 import BeautifulSoup\n",
    "import re \n",
    "import pandas as pd\n",
    "from tqdm import tqdm\n",
    "from IPython.display import display\n",
    "import numpy as np\n",
    "from difflib import SequenceMatcher\n",
    "from scipy.spatial.distance import cosine"
   ]
  },
  {
   "cell_type": "markdown",
   "metadata": {},
   "source": [
    "# Filter out old games"
   ]
  },
  {
   "cell_type": "code",
   "execution_count": 2,
   "metadata": {},
   "outputs": [],
   "source": [
    "from sentence_transformers import SentenceTransformer\n",
    "sbert_model = SentenceTransformer('bert-base-nli-mean-tokens')"
   ]
  },
  {
   "cell_type": "code",
   "execution_count": 3,
   "metadata": {},
   "outputs": [],
   "source": [
    "new_games = pd.read_excel('Game_list.xlsx', engine= 'openpyxl')"
   ]
  },
  {
   "cell_type": "code",
   "execution_count": 4,
   "metadata": {},
   "outputs": [],
   "source": [
    "df_no_ind = new_games.drop(columns = [\"Unnamed: 0\"]).sort_values(by = ['Developer'])\n",
    "df_no_ind = df_no_ind[df_no_ind['Title'].notna()].reset_index(drop=True)"
   ]
  },
  {
   "cell_type": "code",
   "execution_count": 5,
   "metadata": {},
   "outputs": [],
   "source": [
    "old_games = pd.read_csv('old games.csv')"
   ]
  },
  {
   "cell_type": "code",
   "execution_count": 6,
   "metadata": {},
   "outputs": [],
   "source": [
    "old_game_list = np.array(old_games.iloc[:, 2].dropna())"
   ]
  },
  {
   "cell_type": "code",
   "execution_count": 7,
   "metadata": {},
   "outputs": [],
   "source": [
    "old_game_embedding = sbert_model.encode(old_game_list)\n"
   ]
  },
  {
   "cell_type": "code",
   "execution_count": 8,
   "metadata": {},
   "outputs": [],
   "source": [
    "def preprocess_string(tstring):\n",
    "    tstring = tstring.lower()\n",
    "    punc = '''!()-[]{};:'\"\\,<>./?@#$%^&*_~'''\n",
    " \n",
    "    # Removing punctuations in string\n",
    "    # Using loop + punctuation string\n",
    "    for ele in tstring:\n",
    "        if ele in punc:\n",
    "            tstring = tstring.replace(ele, \"\")\n",
    "    \n",
    "    return tstring\n",
    "\n",
    "def build_bigram(doc):\n",
    "    bigrams = []\n",
    "    for title in doc:\n",
    "        title = preprocess_string(title).split(\" \")\n",
    "\n",
    "        for i in range(len(title)-1):\n",
    "            bigram = title[i] + \" \" + title[i+1]\n",
    "            bigrams.append(bigram)\n",
    "    return bigrams\n",
    "def cosine_similarity(a, b): \n",
    "    return cosine(a, b)\n",
    "def sbert_exist(a, doc):\n",
    "    similarity_scores = [cosine_similarity(a,x) for x in doc]\n",
    "    #print(max(similarity_scores))\n",
    "    return max(similarity_scores) >= 0.8"
   ]
  },
  {
   "cell_type": "code",
   "execution_count": 51,
   "metadata": {},
   "outputs": [
    {
     "name": "stdout",
     "output_type": "stream",
     "text": [
      "[0.4654887914657593, 0.5161513090133667, 0.37991076707839966, 0.21226614713668823, 0.28063464164733887, 0.17509132623672485, 0.4365198016166687, 0.2557142376899719, 0.3489704728126526, 0.5908237993717194, 0.16487818956375122, 0.28953051567077637, 0.21751701831817627, 0.2441953420639038, 0.19770312309265137, 0.21794140338897705, 0.5784018635749817, 0.5053529739379883, 0.5561661422252655, 0.5618811845779419, 0.493968665599823, 0.640789806842804, 0.6325919032096863, 0.6392700374126434, 0.6840862929821014, 0.36838042736053467, 0.4180886149406433, 0.4332786202430725, 0.4698740243911743, 0.5112892091274261, 0.41213661432266235, 0.3639005422592163, 0.5832080245018005, 0.8726400285959244, 0.19854885339736938, 0.23618966341018677, 0.23808139562606812, 0.14753925800323486, 0.4342358112335205, 0.42366981506347656, 0.4271507263183594, 0.6487479209899902, 0.4223390817642212, 0.26363319158554077, 0.33380424976348877, 0.45104116201400757, 0.41792070865631104, 0.5084426999092102, 0.3688521981239319, 0.29932713508605957, 0.32222282886505127, 0.2659839987754822, 0.44218456745147705, 0.5093365609645844, 0.3042337894439697, 0.3020034432411194, 0.2847353219985962, 0.4626733660697937, 0.28070366382598877, 0.4652820825576782, 0.14342129230499268, 0.3210284113883972, 0.2722233533859253, 0.594242662191391, 0.530634731054306, 0.4093884229660034, 0.21194595098495483, 0.43738657236099243, 0.24897700548171997, 0.3370426893234253, 0.7390688955783844, 0.4706704616546631, 0.44946616888046265, 0.26703113317489624, 0.5642777681350708, 0.3534443974494934, 0.4213680028915405, 0.35866016149520874, 0.35594457387924194, 0.3531561493873596, 0.42543965578079224, 0.3278416395187378, 0.26325076818466187, 0.21491515636444092, 0.2021084427833557, 0.30118638277053833, 0.24231195449829102, 0.580501914024353, 0.44996070861816406, 0.3399204611778259, 0.4058351516723633, 0.21108919382095337, 0.24063098430633545, 0.30755484104156494, 0.3787529468536377, 0.21650004386901855, 0.31671804189682007, 0.17624914646148682, 0.1733761429786682, 0.2774435877799988, 0.31400156021118164, 0.24682986736297607, 0.3476647138595581, 0.7422700524330139, 0.4151926040649414, 0.1605808138847351, 0.2479851245880127, 0.18186253309249878, 0.3278989791870117, 0.21672463417053223, 0.5052920281887054, 0.2718976140022278, 0.17831259965896606, 0.27476102113723755, 0.6289036870002747, 0.3295899033546448, 0.32038944959640503, 0.19500064849853516, 0.15753066539764404, 0.24889588356018066, 0.5422093570232391, 0.18298017978668213, 0.18374216556549072, 0.1630581021308899, 0.38357359170913696, 0.17055648565292358, 0.1772790551185608, 0.18455100059509277, 0.21268373727798462, 0.24719059467315674, 0.3172335624694824, 0.18097877502441406, 0.21503722667694092, 0.276636004447937, 0.1740107536315918, 0.33326447010040283, 0.4116442799568176, 0.5334227979183197, 0.44044697284698486, 0.5918726623058319, 0.535926878452301, 0.5986039638519287, 0.32224005460739136, 0.17306214570999146, 0.6008672118186951, 0.44650691747665405, 0.2578847408294678, 0.37732601165771484, 0.470653772354126, 0.2790604829788208, 0.29947084188461304, 0.3303740620613098, 0.19236421585083008, 0.5027980506420135, 0.28369003534317017, 0.2733786106109619, 0.18833529949188232, 0.40286582708358765, 0.23209244012832642, 0.281929612159729, 0.32671254873275757, 0.2917306423187256, 0.23060208559036255, 0.1979866623878479, 0.372475266456604, 0.15796023607254028, 0.47562962770462036, 0.2836105227470398, 0.27450788021087646, 0.44011253118515015, 0.29011356830596924, 0.2747783064842224, 0.23708617687225342]\n"
     ]
    },
    {
     "data": {
      "text/plain": [
       "True"
      ]
     },
     "execution_count": 51,
     "metadata": {},
     "output_type": "execute_result"
    }
   ],
   "source": [
    "sbert_exist(sbert_model.encode([\"Asagi\"])[0], vectorized_old_game)"
   ]
  },
  {
   "cell_type": "markdown",
   "metadata": {},
   "source": [
    "SBert Embedding + cosine similarity "
   ]
  },
  {
   "cell_type": "code",
   "execution_count": 12,
   "metadata": {},
   "outputs": [],
   "source": [
    "preprocessed_old_game_list = [preprocess_string(title) for title in old_game_list]\n",
    "vectorized_old_game = [sbert_model.encode([title])[0] for title in preprocessed_old_game_list]"
   ]
  },
  {
   "cell_type": "code",
   "execution_count": 72,
   "metadata": {},
   "outputs": [
    {
     "name": "stderr",
     "output_type": "stream",
     "text": [
      "1011it [00:25, 39.55it/s]\n"
     ]
    }
   ],
   "source": [
    "remove_list = []\n",
    "for index, row in tqdm(df_no_ind.iterrows()):\n",
    "    #print(index)\n",
    "    title = row['Title']\n",
    "    #print(title)\n",
    "    preprocessed_title = preprocess_string(title)\n",
    "    vectorized = sbert_model.encode([preprocessed_title])[0] \n",
    "    if sbert_exist(vectorized, vectorized_old_game):\n",
    "        remove_list.append(index)"
   ]
  },
  {
   "cell_type": "code",
   "execution_count": 73,
   "metadata": {},
   "outputs": [
    {
     "data": {
      "text/plain": [
       "679"
      ]
     },
     "execution_count": 73,
     "metadata": {},
     "output_type": "execute_result"
    }
   ],
   "source": [
    "len(remove_list)"
   ]
  },
  {
   "cell_type": "code",
   "execution_count": 74,
   "metadata": {},
   "outputs": [],
   "source": [
    "dropped_similar = df_no_ind.drop(df_no_ind.index[remove_list])"
   ]
  },
  {
   "cell_type": "code",
   "execution_count": 76,
   "metadata": {},
   "outputs": [],
   "source": [
    "dropped_similar.to_excel('SNewGame_list.xlsx')"
   ]
  },
  {
   "cell_type": "code",
   "execution_count": 9,
   "metadata": {},
   "outputs": [],
   "source": [
    "old_game_bigram = build_bigram(old_game_list)"
   ]
  },
  {
   "cell_type": "code",
   "execution_count": 13,
   "metadata": {},
   "outputs": [],
   "source": [
    "def similar(a, b):\n",
    "    a = preprocess_string(a)\n",
    "    b = preprocess_string(b)\n",
    "    score = SequenceMatcher(None, a, b).ratio()\n",
    "    \n",
    "    if a in b or b in a:\n",
    "        score = 1.0\n",
    "    # a_list = a.split(\" \")\n",
    "    # b_list = b.split(\" \")\n",
    "    # if len(list(set(a_list) & set(b_list))) != 0:\n",
    "    #     return 1.0\n",
    "    return score\n",
    "def in_bigram(a, old_bigram):\n",
    "    for biword in old_bigram:\n",
    "        if SequenceMatcher(None, a, biword).ratio() >= 0.6:\n",
    "            return True\n",
    "def exist(a, doc, old_game_bigram):\n",
    "    a_bigram = build_bigram([a])\n",
    "    for biword in a_bigram:\n",
    "        if in_bigram(biword, old_game_bigram):\n",
    "            return True\n",
    "    for word in doc:\n",
    "        a = preprocess_string(a)\n",
    "        b = preprocess_string(word)\n",
    "        if a in b or b in a:\n",
    "            return True\n",
    "        score = SequenceMatcher(None, a, b).ratio()\n",
    "        if score >= 0.6:\n",
    "            return True\n",
    "    preprocessed_title = preprocess_string(a)\n",
    "    vectorized = sbert_model.encode([preprocessed_title])[0] \n",
    "    similarity_scores = [cosine(vectorized,x) for x in vectorized_old_game]\n",
    "    return max(similarity_scores) >= 0.81"
   ]
  },
  {
   "cell_type": "code",
   "execution_count": 14,
   "metadata": {},
   "outputs": [
    {
     "name": "stderr",
     "output_type": "stream",
     "text": [
      "1011it [00:24, 41.27it/s]\n"
     ]
    },
    {
     "data": {
      "text/plain": [
       "'length of remove_list:882'"
      ]
     },
     "execution_count": 14,
     "metadata": {},
     "output_type": "execute_result"
    }
   ],
   "source": [
    "remove_list = []\n",
    "for index, row in tqdm(df_no_ind.iterrows()):\n",
    "    title = row['Title']\n",
    "    if exist(title, old_game_list, old_game_bigram):\n",
    "        remove_list.append(index)\n",
    "\"length of remove_list:\" + str(len(remove_list))"
   ]
  },
  {
   "cell_type": "code",
   "execution_count": 15,
   "metadata": {},
   "outputs": [],
   "source": [
    "dropped_similar = df_no_ind.drop(df_no_ind.index[remove_list])\n",
    "dropped_similar.to_excel('SNewGame_list.xlsx')"
   ]
  },
  {
   "cell_type": "code",
   "execution_count": 16,
   "metadata": {},
   "outputs": [
    {
     "data": {
      "text/html": [
       "<div>\n",
       "<style scoped>\n",
       "    .dataframe tbody tr th:only-of-type {\n",
       "        vertical-align: middle;\n",
       "    }\n",
       "\n",
       "    .dataframe tbody tr th {\n",
       "        vertical-align: top;\n",
       "    }\n",
       "\n",
       "    .dataframe thead th {\n",
       "        text-align: right;\n",
       "    }\n",
       "</style>\n",
       "<table border=\"1\" class=\"dataframe\">\n",
       "  <thead>\n",
       "    <tr style=\"text-align: right;\">\n",
       "      <th></th>\n",
       "      <th>Title</th>\n",
       "      <th>Original Title</th>\n",
       "      <th>Developer</th>\n",
       "      <th>URL</th>\n",
       "    </tr>\n",
       "  </thead>\n",
       "  <tbody>\n",
       "    <tr>\n",
       "      <th>6</th>\n",
       "      <td>UuultraC, ウルC</td>\n",
       "      <td>ウウウルトラC</td>\n",
       "      <td>ADELTA</td>\n",
       "      <td>https://www.ryuugames.com/eng-uuultrac-uncenso...</td>\n",
       "    </tr>\n",
       "    <tr>\n",
       "      <th>8</th>\n",
       "      <td>Onigokko!</td>\n",
       "      <td>鬼ごっこ！</td>\n",
       "      <td>ALcot</td>\n",
       "      <td>https://www.ryuugames.com/eng-onigokko-free-do...</td>\n",
       "    </tr>\n",
       "    <tr>\n",
       "      <th>21</th>\n",
       "      <td>Daiteikoku</td>\n",
       "      <td>大帝国</td>\n",
       "      <td>Alice Soft</td>\n",
       "      <td>https://www.ryuugames.com/daiteikoku-free-down...</td>\n",
       "    </tr>\n",
       "    <tr>\n",
       "      <th>22</th>\n",
       "      <td>Rance 4.1</td>\n",
       "      <td>ランス４．１　～お薬工場を救え！～</td>\n",
       "      <td>Alice Soft</td>\n",
       "      <td>https://www.ryuugames.com/eng-rance-4-1-save-t...</td>\n",
       "    </tr>\n",
       "    <tr>\n",
       "      <th>23</th>\n",
       "      <td>Rance 4.2 ~Angelgumi~</td>\n",
       "      <td>ランス４．２　～エンジェル組～</td>\n",
       "      <td>Alice Soft</td>\n",
       "      <td>https://www.ryuugames.com/eng-rance-4-2-angelg...</td>\n",
       "    </tr>\n",
       "    <tr>\n",
       "      <th>...</th>\n",
       "      <td>...</td>\n",
       "      <td>...</td>\n",
       "      <td>...</td>\n",
       "      <td>...</td>\n",
       "    </tr>\n",
       "    <tr>\n",
       "      <th>971</th>\n",
       "      <td>Rance Quest Magnum</td>\n",
       "      <td>ランス・クエスト マグナム</td>\n",
       "      <td>NaN</td>\n",
       "      <td>https://www.ryuugames.com/eng-rance-quest-magn...</td>\n",
       "    </tr>\n",
       "    <tr>\n",
       "      <th>981</th>\n",
       "      <td>Hatoful Boyfriend [ENG]</td>\n",
       "      <td>はーとふる彼氏〜希望の学園と白い翼〜</td>\n",
       "      <td>NaN</td>\n",
       "      <td>https://www.ryuugames.com/eng-hatoful-kareshi-...</td>\n",
       "    </tr>\n",
       "    <tr>\n",
       "      <th>984</th>\n",
       "      <td>Death end re;Quest</td>\n",
       "      <td>Death end re;Quest</td>\n",
       "      <td>NaN</td>\n",
       "      <td>https://www.ryuugames.com/eng-death-end-reques...</td>\n",
       "    </tr>\n",
       "    <tr>\n",
       "      <th>997</th>\n",
       "      <td>Aoishiro</td>\n",
       "      <td>アオイシロ</td>\n",
       "      <td>NaN</td>\n",
       "      <td>https://www.ryuugames.com/eng-aoishiro-free-do...</td>\n",
       "    </tr>\n",
       "    <tr>\n",
       "      <th>1009</th>\n",
       "      <td>PSYCHO-PASS: Mandatory Happiness [ENG]</td>\n",
       "      <td>PSYCHO-PASS: Mandatory Happiness [ENG]</td>\n",
       "      <td>NaN</td>\n",
       "      <td>https://www.ryuugames.com/eng-psycho-pass-sent...</td>\n",
       "    </tr>\n",
       "  </tbody>\n",
       "</table>\n",
       "<p>129 rows × 4 columns</p>\n",
       "</div>"
      ],
      "text/plain": [
       "                                       Title  \\\n",
       "6                              UuultraC, ウルC   \n",
       "8                                  Onigokko!   \n",
       "21                                Daiteikoku   \n",
       "22                                 Rance 4.1   \n",
       "23                     Rance 4.2 ~Angelgumi~   \n",
       "...                                      ...   \n",
       "971                       Rance Quest Magnum   \n",
       "981                  Hatoful Boyfriend [ENG]   \n",
       "984                       Death end re;Quest   \n",
       "997                                 Aoishiro   \n",
       "1009  PSYCHO-PASS: Mandatory Happiness [ENG]   \n",
       "\n",
       "                              Original Title   Developer  \\\n",
       "6                                    ウウウルトラC      ADELTA   \n",
       "8                                      鬼ごっこ！       ALcot   \n",
       "21                                       大帝国  Alice Soft   \n",
       "22                         ランス４．１　～お薬工場を救え！～  Alice Soft   \n",
       "23                           ランス４．２　～エンジェル組～  Alice Soft   \n",
       "...                                      ...         ...   \n",
       "971                            ランス・クエスト マグナム         NaN   \n",
       "981                       はーとふる彼氏〜希望の学園と白い翼〜         NaN   \n",
       "984                       Death end re;Quest         NaN   \n",
       "997                                    アオイシロ         NaN   \n",
       "1009  PSYCHO-PASS: Mandatory Happiness [ENG]         NaN   \n",
       "\n",
       "                                                    URL  \n",
       "6     https://www.ryuugames.com/eng-uuultrac-uncenso...  \n",
       "8     https://www.ryuugames.com/eng-onigokko-free-do...  \n",
       "21    https://www.ryuugames.com/daiteikoku-free-down...  \n",
       "22    https://www.ryuugames.com/eng-rance-4-1-save-t...  \n",
       "23    https://www.ryuugames.com/eng-rance-4-2-angelg...  \n",
       "...                                                 ...  \n",
       "971   https://www.ryuugames.com/eng-rance-quest-magn...  \n",
       "981   https://www.ryuugames.com/eng-hatoful-kareshi-...  \n",
       "984   https://www.ryuugames.com/eng-death-end-reques...  \n",
       "997   https://www.ryuugames.com/eng-aoishiro-free-do...  \n",
       "1009  https://www.ryuugames.com/eng-psycho-pass-sent...  \n",
       "\n",
       "[129 rows x 4 columns]"
      ]
     },
     "execution_count": 16,
     "metadata": {},
     "output_type": "execute_result"
    }
   ],
   "source": [
    "dropped_similar"
   ]
  },
  {
   "cell_type": "code",
   "execution_count": null,
   "metadata": {},
   "outputs": [
    {
     "data": {
      "text/plain": [
       "0.4"
      ]
     },
     "metadata": {},
     "output_type": "display_data"
    }
   ],
   "source": [
    "similar('Kyonyuu Fantasy Gaiden / Funbag Fantasy : Sideboob Story', 'Funbag Fantasy')"
   ]
  }
 ],
 "metadata": {
  "interpreter": {
   "hash": "a8a3e446c3fda51a20e4543f455945c6b2b80cc1e2799bc8bf7ab1939ab8c8a8"
  },
  "kernelspec": {
   "display_name": "Python 3.6.13 ('gluon')",
   "language": "python",
   "name": "python3"
  },
  "language_info": {
   "codemirror_mode": {
    "name": "ipython",
    "version": 3
   },
   "file_extension": ".py",
   "mimetype": "text/x-python",
   "name": "python",
   "nbconvert_exporter": "python",
   "pygments_lexer": "ipython3",
   "version": "3.6.13"
  },
  "orig_nbformat": 4
 },
 "nbformat": 4,
 "nbformat_minor": 2
}
